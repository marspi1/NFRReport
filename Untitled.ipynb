{
 "cells": [
  {
   "cell_type": "code",
   "execution_count": 1,
   "id": "c5dec71e",
   "metadata": {},
   "outputs": [],
   "source": [
    "import pandas as pd\n",
    "import folium as fl\n",
    "import matplotlib.pyplot as plt"
   ]
  },
  {
   "cell_type": "code",
   "execution_count": 7,
   "id": "32ef00c6",
   "metadata": {},
   "outputs": [],
   "source": [
    "m = fl.Map(location=[35.9375, 14.3754]\n",
    "          ,tiles = 'stamentoner')\n",
    "for i, r in base_df.iterrows():\n",
    "    fl.Circle(\n",
    "    radius=5,\n",
    "    location=[r['LATITUDE'], r['LONGITUDE']],\n",
    "    popup=r[\"TYPE\"],\n",
    "    color=\"CRIMSON\",\n",
    "    fill=True,\n",
    "    ).add_to(m)\n",
    "for i, r in towers.iterrows():\n",
    "    fl.Circle(\n",
    "    radius=50,\n",
    "    location=[r['Latitude'], r['Longitude']],\n",
    "    popup=r[\"SITE_NAME\"],\n",
    "    color=\"darkblue\",\n",
    "    fill=True,\n",
    "    ).add_to(m)"
   ]
  },
  {
   "cell_type": "code",
   "execution_count": 11,
   "id": "400ca4d5",
   "metadata": {
    "scrolled": false
   },
   "outputs": [],
   "source": [
    "m.save(\"NFRmonochrome.HTML\")"
   ]
  },
  {
   "cell_type": "code",
   "execution_count": 32,
   "id": "f80d66a5",
   "metadata": {},
   "outputs": [
    {
     "data": {
      "text/html": [
       "<div>\n",
       "<style scoped>\n",
       "    .dataframe tbody tr th:only-of-type {\n",
       "        vertical-align: middle;\n",
       "    }\n",
       "\n",
       "    .dataframe tbody tr th {\n",
       "        vertical-align: top;\n",
       "    }\n",
       "\n",
       "    .dataframe thead th {\n",
       "        text-align: right;\n",
       "    }\n",
       "</style>\n",
       "<table border=\"1\" class=\"dataframe\">\n",
       "  <thead>\n",
       "    <tr style=\"text-align: right;\">\n",
       "      <th></th>\n",
       "      <th>Name</th>\n",
       "      <th>SITE_NAME</th>\n",
       "      <th>Longitude</th>\n",
       "      <th>Latitude</th>\n",
       "    </tr>\n",
       "  </thead>\n",
       "  <tbody>\n",
       "    <tr>\n",
       "      <th>0</th>\n",
       "      <td>1</td>\n",
       "      <td>Valletta</td>\n",
       "      <td>14.514444</td>\n",
       "      <td>35.898739</td>\n",
       "    </tr>\n",
       "    <tr>\n",
       "      <th>1</th>\n",
       "      <td>2</td>\n",
       "      <td>Gharghur</td>\n",
       "      <td>14.452118</td>\n",
       "      <td>35.927941</td>\n",
       "    </tr>\n",
       "    <tr>\n",
       "      <th>2</th>\n",
       "      <td>3</td>\n",
       "      <td>St_Vincent</td>\n",
       "      <td>14.484590</td>\n",
       "      <td>35.867019</td>\n",
       "    </tr>\n",
       "    <tr>\n",
       "      <th>3</th>\n",
       "      <td>4</td>\n",
       "      <td>Birkirkara_1</td>\n",
       "      <td>14.472428</td>\n",
       "      <td>35.893422</td>\n",
       "    </tr>\n",
       "    <tr>\n",
       "      <th>4</th>\n",
       "      <td>5</td>\n",
       "      <td>Mtarfa</td>\n",
       "      <td>14.400617</td>\n",
       "      <td>35.894761</td>\n",
       "    </tr>\n",
       "    <tr>\n",
       "      <th>...</th>\n",
       "      <td>...</td>\n",
       "      <td>...</td>\n",
       "      <td>...</td>\n",
       "      <td>...</td>\n",
       "    </tr>\n",
       "    <tr>\n",
       "      <th>450</th>\n",
       "      <td>824</td>\n",
       "      <td>SR_Technics</td>\n",
       "      <td>14.466980</td>\n",
       "      <td>35.854773</td>\n",
       "    </tr>\n",
       "    <tr>\n",
       "      <th>451</th>\n",
       "      <td>832</td>\n",
       "      <td>University_MATLAB</td>\n",
       "      <td>14.484611</td>\n",
       "      <td>35.903028</td>\n",
       "    </tr>\n",
       "    <tr>\n",
       "      <th>452</th>\n",
       "      <td>836</td>\n",
       "      <td>Imperial_Elderly_Home</td>\n",
       "      <td>14.501371</td>\n",
       "      <td>35.912097</td>\n",
       "    </tr>\n",
       "    <tr>\n",
       "      <th>453</th>\n",
       "      <td>840</td>\n",
       "      <td>St_Vincent_Indoor</td>\n",
       "      <td>14.481322</td>\n",
       "      <td>35.868189</td>\n",
       "    </tr>\n",
       "    <tr>\n",
       "      <th>454</th>\n",
       "      <td>844</td>\n",
       "      <td>Tain_Betting</td>\n",
       "      <td>14.460399</td>\n",
       "      <td>35.892629</td>\n",
       "    </tr>\n",
       "  </tbody>\n",
       "</table>\n",
       "<p>455 rows × 4 columns</p>\n",
       "</div>"
      ],
      "text/plain": [
       "     Name              SITE_NAME  Longitude   Latitude\n",
       "0       1               Valletta  14.514444  35.898739\n",
       "1       2               Gharghur  14.452118  35.927941\n",
       "2       3             St_Vincent  14.484590  35.867019\n",
       "3       4           Birkirkara_1  14.472428  35.893422\n",
       "4       5                 Mtarfa  14.400617  35.894761\n",
       "..    ...                    ...        ...        ...\n",
       "450   824            SR_Technics  14.466980  35.854773\n",
       "451   832      University_MATLAB  14.484611  35.903028\n",
       "452   836  Imperial_Elderly_Home  14.501371  35.912097\n",
       "453   840      St_Vincent_Indoor  14.481322  35.868189\n",
       "454   844           Tain_Betting  14.460399  35.892629\n",
       "\n",
       "[455 rows x 4 columns]"
      ]
     },
     "execution_count": 32,
     "metadata": {},
     "output_type": "execute_result"
    }
   ],
   "source": [
    "base_df = pd.read_csv('NFR2023.csv')\n",
    "towers = pd.read_csv('RadioSites.csv')\n",
    "towers"
   ]
  },
  {
   "cell_type": "code",
   "execution_count": 33,
   "id": "51c522c4",
   "metadata": {},
   "outputs": [],
   "source": [
    "m2 = fl.Map(location=[35.9375, 14.3754])\n",
    "for i, r in base_df.iterrows():\n",
    "    fl.Circle(\n",
    "    radius=5,\n",
    "    location=[r['LATITUDE'], r['LONGITUDE']],\n",
    "    popup=r[\"TYPE\"],\n",
    "    color=\"CRIMSON\",\n",
    "    fill=True,\n",
    "    ).add_to(m2)\n",
    "for i, r in towers.iterrows():\n",
    "    fl.Circle(\n",
    "    radius=50,\n",
    "    location=[r['Latitude'], r['Longitude']],\n",
    "    popup=r[\"SITE_NAME\"],\n",
    "    color=\"darkblue\",\n",
    "    fill=True,\n",
    "    ).add_to(m2)"
   ]
  },
  {
   "cell_type": "code",
   "execution_count": 34,
   "id": "e1358caf",
   "metadata": {
    "scrolled": false
   },
   "outputs": [],
   "source": [
    "m2.save(\"NFR2.HTML\")"
   ]
  }
 ],
 "metadata": {
  "kernelspec": {
   "display_name": "Python 3 (ipykernel)",
   "language": "python",
   "name": "python3"
  },
  "language_info": {
   "codemirror_mode": {
    "name": "ipython",
    "version": 3
   },
   "file_extension": ".py",
   "mimetype": "text/x-python",
   "name": "python",
   "nbconvert_exporter": "python",
   "pygments_lexer": "ipython3",
   "version": "3.11.2"
  }
 },
 "nbformat": 4,
 "nbformat_minor": 5
}
